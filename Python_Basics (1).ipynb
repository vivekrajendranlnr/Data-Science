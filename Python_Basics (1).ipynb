{
  "nbformat": 4,
  "nbformat_minor": 0,
  "metadata": {
    "colab": {
      "provenance": []
    },
    "kernelspec": {
      "name": "python3",
      "display_name": "Python 3"
    },
    "language_info": {
      "name": "python"
    }
  },
  "cells": [
    {
      "cell_type": "markdown",
      "source": [
        "Python as a calculator"
      ],
      "metadata": {
        "id": "9tMPDvDqG6ZD"
      }
    },
    {
      "cell_type": "code",
      "execution_count": 1,
      "metadata": {
        "colab": {
          "base_uri": "https://localhost:8080/"
        },
        "id": "bI4Xxz6mG2fH",
        "outputId": "bb2e9a86-4d38-4a83-f1e3-2f0e9e555d99"
      },
      "outputs": [
        {
          "output_type": "stream",
          "name": "stdout",
          "text": [
            "15\n",
            "-5\n",
            "153\n",
            "0.45454545454545453\n",
            "18\n",
            "1099511627776\n",
            "32\n"
          ]
        }
      ],
      "source": [
        "# Addition, subtraction\n",
        "print(5 + 10)\n",
        "print(5 - 10)\n",
        "\n",
        "# Multiplication, division, modulo, and exponentiation\n",
        "print(3 * 51)\n",
        "print(10 / 22)\n",
        "print(18 % 71)\n",
        "print(4 ** 20)\n",
        "\n",
        "# Calculate two to the power of five\n",
        "print(2**5)"
      ]
    },
    {
      "cell_type": "markdown",
      "source": [
        "Variable Assignment\n"
      ],
      "metadata": {
        "id": "yUU8GygyIXa0"
      }
    },
    {
      "cell_type": "code",
      "source": [
        "# Create a variable savings\n",
        "savings = 100   \n",
        "\n",
        "# Print out savings\n",
        "print(savings)\n",
        "\n",
        "#Type\n",
        "type(savings)"
      ],
      "metadata": {
        "colab": {
          "base_uri": "https://localhost:8080/"
        },
        "id": "cesRAQuUG-q9",
        "outputId": "10b31df7-3755-4490-c099-11ea7ea529d9"
      },
      "execution_count": 2,
      "outputs": [
        {
          "output_type": "stream",
          "name": "stdout",
          "text": [
            "100\n"
          ]
        },
        {
          "output_type": "execute_result",
          "data": {
            "text/plain": [
              "int"
            ]
          },
          "metadata": {},
          "execution_count": 2
        }
      ]
    },
    {
      "cell_type": "markdown",
      "source": [
        "Calculations with variables\n"
      ],
      "metadata": {
        "id": "re5KkkMbJiOu"
      }
    },
    {
      "cell_type": "markdown",
      "source": [
        "The formula to calculate how much money you have after 7 years of investing $100 each year with 10% return would look something like this:\n",
        "\n"
      ],
      "metadata": {
        "id": "b49Xyu6lJoMX"
      }
    },
    {
      "cell_type": "code",
      "source": [
        "# Create a variable savings\n",
        "savings = 100\n",
        "\n",
        "# Create a variable growth_multiplier\n",
        "growth_multiplier = 1.1\n",
        "\n",
        "# Calculate result\n",
        "result = savings * growth_multiplier ** 7\n",
        "\n",
        "# Print out result\n",
        "print(result)"
      ],
      "metadata": {
        "colab": {
          "base_uri": "https://localhost:8080/"
        },
        "id": "P-DYw2vlIxMk",
        "outputId": "5090e896-50da-4e05-d2ad-5f071a15369c"
      },
      "execution_count": 3,
      "outputs": [
        {
          "output_type": "stream",
          "name": "stdout",
          "text": [
            "194.87171000000012\n"
          ]
        }
      ]
    },
    {
      "cell_type": "markdown",
      "source": [
        "Other variable types\n"
      ],
      "metadata": {
        "id": "gyeDrf6lSLw6"
      }
    },
    {
      "cell_type": "code",
      "source": [
        "# Create a variable desc\n",
        "desc = \"compound interest\"\n",
        "\n",
        "# Create a variable profitable\n",
        "profitable = True"
      ],
      "metadata": {
        "id": "I-XF32nKJttm"
      },
      "execution_count": 4,
      "outputs": []
    },
    {
      "cell_type": "markdown",
      "source": [
        "Operations with other types\n"
      ],
      "metadata": {
        "id": "V4HhYy0XUMb6"
      }
    },
    {
      "cell_type": "code",
      "source": [
        "savings = 100\n",
        "growth_multiplier = 1.1\n",
        "desc = \"compound interest\"\n",
        "\n",
        "# Assign product of savings and growth_multiplier to year1\n",
        "year1 = savings * growth_multiplier\n",
        "\n",
        "# Print the type of year1\n",
        "print(type(year1))\n",
        "\n",
        "\n",
        "# Assign sum of desc and desc to doubledesc\n",
        "doubledesc = desc + desc\n",
        "\n",
        "# Print out doubledesc\n",
        "print (doubledesc)\n",
        "\n"
      ],
      "metadata": {
        "colab": {
          "base_uri": "https://localhost:8080/"
        },
        "id": "XxHtQ577SO97",
        "outputId": "4da38add-bc52-45e0-bfd8-d885397a70f6"
      },
      "execution_count": 5,
      "outputs": [
        {
          "output_type": "stream",
          "name": "stdout",
          "text": [
            "<class 'float'>\n",
            "compound interestcompound interest\n"
          ]
        }
      ]
    },
    {
      "cell_type": "markdown",
      "source": [
        "Type conversion\n"
      ],
      "metadata": {
        "id": "d8lBc6BtVlpJ"
      }
    },
    {
      "cell_type": "code",
      "source": [
        "# Definition of savings and result\n",
        "savings = 100\n",
        "result = 100 * 1.10 ** 7\n",
        "\n",
        "# Fix the printout\n",
        "print(\"I started with $\" + str(savings) + \" and now have $\" + str(result) + \". Awesome!\")\n",
        "\n",
        "# Definition of pi_string\n",
        "pi_string = \"3.1415926\"\n",
        "\n",
        "# Convert pi_string into float: pi_float\n",
        "pi_float = float(pi_string)\n",
        "pi_float"
      ],
      "metadata": {
        "colab": {
          "base_uri": "https://localhost:8080/"
        },
        "id": "BQgfjwUAUOuO",
        "outputId": "ae497c0c-cb06-4e6c-fc43-1c59aa25efd0"
      },
      "execution_count": 6,
      "outputs": [
        {
          "output_type": "stream",
          "name": "stdout",
          "text": [
            "I started with $100 and now have $194.87171000000012. Awesome!\n"
          ]
        },
        {
          "output_type": "execute_result",
          "data": {
            "text/plain": [
              "3.1415926"
            ]
          },
          "metadata": {},
          "execution_count": 6
        }
      ]
    }
  ]
}